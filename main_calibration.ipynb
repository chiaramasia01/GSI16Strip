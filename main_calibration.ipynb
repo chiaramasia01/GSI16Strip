{
 "cells": [
  {
   "cell_type": "markdown",
   "metadata": {},
   "source": [
    "### Main file for calibration ###"
   ]
  },
  {
   "cell_type": "code",
   "execution_count": 1,
   "metadata": {},
   "outputs": [],
   "source": [
    "import numpy as np\n",
    "import os\n",
    "import matplotlib.pyplot as plt\n",
    "import pandas as pd\n",
    "from scipy import optimize\n",
    "import function as f\n",
    "from scipy.signal import find_peaks\n",
    "from NewCalibration import Calib_position\n",
    "from NewCalibration import Calib_energy\n",
    "from NewCalibration import Calib_channel"
   ]
  },
  {
   "cell_type": "code",
   "execution_count": null,
   "metadata": {},
   "outputs": [],
   "source": [
    "\n",
    "# this part handles the balistic calibration\n",
    "\n",
    "lower_bound = [3500, 3500, 3500, 3500, 3500, 3450, 3450, 3400, 3500, 3500, 3500, 3500, 3550, 3500, 3450] # seen from plot_data\n",
    "upper_bound = [3750, 3700, 3700, 3700, 3700, 3700, 3700, 3700, 3700, 3700, 3700, 3800, 3800, 3700, 3700]\n",
    "\n",
    "# tabulated energies of the alpha particles\n",
    "\n",
    "energy1 = 5156.59 \n",
    "energy2 = 5485.46\n",
    "energy3 = 5804.77\n",
    "\n",
    "\n",
    "thres= [20, 20, 20, 20, 20, 15, 20, 15, 15, 30, 15, 15, 15, 10, 15, 20] # threshold for selecting relevant counts\n",
    "\n",
    "\n",
    "for ii in range(1,16):\n",
    "    file = \"20240808_test001_0001_uncal.txt\"\n",
    "    strip = ii\n",
    "    my_cal = Calib_position(\"Strippos\", \"Energy\")\n",
    "    my_cal.read_data(file)\n",
    "    my_cal.plot_hist(strip)\n",
    "    my_cal.plot_data(strip, thres[ii-1])\n",
    "    my_cal.fit_data(strip, lower_bound[ii-1], upper_bound[ii-1]) \n",
    "    #my_cal.fit_results()\n",
    "    #my_cal.write_txt('fit_results', strip, energy1, energy2, energy3)\n",
    "    my_cal.plot_calib_hist(lower_bound[ii-1], upper_bound[ii-1], strip, energy1, energy2, energy3)"
   ]
  },
  {
   "cell_type": "code",
   "execution_count": null,
   "metadata": {},
   "outputs": [],
   "source": [
    "# This part handles the energy calibration\n",
    "\n",
    "for ii in range(1,16):\n",
    "    if ii<10:\n",
    "        file = '16 Strip Position Corrected Energy 0'+str(ii)+'.hdat'\n",
    "        strip = '0'+str(ii)\n",
    "    else:\n",
    "        file = '16 Strip Position Corrected Energy '+str(ii)+'.hdat'\n",
    "        strip = str(ii)\n",
    "    my_en = Calib_energy(\"# X \", \"Content\")\n",
    "    my_en.read_data(file)\n",
    "    my_en.plot_hist(strip)\n",
    "    my_en.initial_guess()\n",
    "    my_en.fit_gauss(strip)\n",
    "    #my_en.write_txt('gauss_results', strip)\n"
   ]
  },
  {
   "cell_type": "code",
   "execution_count": null,
   "metadata": {},
   "outputs": [],
   "source": [
    "# This part handles the conversion between energy and channel\n",
    "\n",
    "energy1 = 5156.59\n",
    "energy2 = 5485.46\n",
    "energy3 = 5804.77\n",
    "\n",
    "for ii in range(1,16):\n",
    "    if ii<10:\n",
    "        file = 'gauss_results0'+str(ii)+'.dat'\n",
    "        strip = '0'+str(ii)\n",
    "    else:\n",
    "        file = 'gauss_results'+str(ii)+'.dat'\n",
    "        strip = str(ii)\n",
    "\n",
    "    my_channel = Calib_channel(energy1, energy2, energy3)\n",
    "    my_channel.read_txt(file)\n",
    "    my_channel.fit_line(strip)\n",
    "    #my_channel.write_txt('line_results', strip)"
   ]
  },
  {
   "cell_type": "code",
   "execution_count": 2,
   "metadata": {},
   "outputs": [
    {
     "data": {
      "text/plain": [
       "\"\\nm = []\\nq = []\\n\\npath = os.path.join(work_dir, 'Calib_energy_chiara.dat')\\ntext=open(path, 'w')\\n\\nfor ii in range(1,16):\\n    if ii<10:\\n        filename = 'line_results0'+str(ii)+'.dat'\\n        strip = '0'+str(ii)\\n    else:\\n        filename = 'line_results'+str(ii)+'.dat'\\n        strip = str(ii)\\n\\n    filepath = os.path.join(data_dir, filename)\\n    m_i, q_i = np.loadtxt(filepath, comments='#', unpack=True)\\n    print('%.3f %.3f' % (m_i, q_i), file=text)\\n\\n\\ntext.close()\\n\""
      ]
     },
     "execution_count": 2,
     "metadata": {},
     "output_type": "execute_result"
    }
   ],
   "source": [
    "work_dir = os.getcwd()\n",
    "data_dir = os.path.join(work_dir, 'results')\n",
    "'''\n",
    "m = []\n",
    "q = []\n",
    "\n",
    "path = os.path.join(work_dir, 'Calib_energy_chiara.dat')\n",
    "text=open(path, 'w')\n",
    "\n",
    "for ii in range(1,16):\n",
    "    if ii<10:\n",
    "        filename = 'line_results0'+str(ii)+'.dat'\n",
    "        strip = '0'+str(ii)\n",
    "    else:\n",
    "        filename = 'line_results'+str(ii)+'.dat'\n",
    "        strip = str(ii)\n",
    "\n",
    "    filepath = os.path.join(data_dir, filename)\n",
    "    m_i, q_i = np.loadtxt(filepath, comments='#', unpack=True)\n",
    "    print('%.3f %.3f' % (m_i, q_i), file=text)\n",
    "\n",
    "\n",
    "text.close()\n",
    "'''"
   ]
  },
  {
   "cell_type": "code",
   "execution_count": 33,
   "metadata": {},
   "outputs": [
    {
     "name": "stdout",
     "output_type": "stream",
     "text": [
      "353426\n",
      "353426\n"
     ]
    },
    {
     "data": {
      "text/plain": [
       "(4800.0, 5800.0)"
      ]
     },
     "execution_count": 33,
     "metadata": {},
     "output_type": "execute_result"
    },
    {
     "data": {
      "image/png": "[encoded data removed]",
      "text/plain": [
       "<Figure size 720x432 with 2 Axes>"
      ]
     },
     "metadata": {
      "needs_background": "light"
     },
     "output_type": "display_data"
    }
   ],
   "source": [
    "\n",
    "filename = \"20240808_test001_0001_uncal.txt\"\n",
    "filepath = os.path.join(work_dir, filename)\n",
    "my_df = pd.read_csv(filepath, sep=\" \", header=0) \n",
    "\n",
    "\n",
    "position = my_df['Strippos'].to_numpy()\n",
    "energy = my_df['Energy'].to_numpy()\n",
    "strip = my_df['Stripnum'].to_numpy()\n",
    "\n",
    "\n",
    "\n",
    "calib_position = \"Calib_position_chiara.dat\"\n",
    "pos_path = os.path.join(work_dir, calib_position)\n",
    "a,b,c = np.loadtxt(pos_path, unpack=True)\n",
    "\n",
    "calib_energy = 'Calib_energy_chiara.dat'\n",
    "en_path = os.path.join(work_dir, calib_energy)\n",
    "m,q = np.loadtxt(en_path, unpack=True)\n",
    "\n",
    "corrected_energy=[]\n",
    "corrected_strip=[]\n",
    "\n",
    "for ii in range(0,16):\n",
    "        index = my_df['Stripnum'].loc[my_df['Stripnum'] == ii].index\n",
    "        strip_energy = energy[index]\n",
    "        strip_position = position[index]\n",
    "        strip_number = strip[index]\n",
    "        energy_sel = strip_energy[strip_energy!=0] \n",
    "        position_sel = strip_position[strip_energy!=0]\n",
    "        strip_sel = strip_number[strip_energy!=0]\n",
    "        for jj in range(len(energy_sel)):\n",
    "                delta_E = a[ii]*position_sel[jj]**2 + b[ii]*position_sel[jj] + c[ii]\n",
    "                energy_corr = energy_sel[jj] - delta_E\n",
    "                energy_fin = m[ii]*energy_corr + q[ii]\n",
    "                corrected_energy.append(energy_fin)\n",
    "                corrected_strip.append(ii)\n",
    "\n",
    "\n",
    "print(len(corrected_energy))\n",
    "print(len(corrected_strip))\n",
    "\n",
    "\n",
    "plt.figure(figsize=(10,6))\n",
    "plt.hist2d(corrected_strip, corrected_energy, bins=(16,500), cmap='twilight')\n",
    "plt.colorbar()\n",
    "plt.xlabel('Strip number')\n",
    "plt.ylabel('Channel [keV]')\n",
    "plt.title('Calibration results')\n",
    "plt.ylim(4800,5800)"
   ]
  },
  {
   "cell_type": "code",
   "execution_count": null,
   "metadata": {},
   "outputs": [],
   "source": []
  }
 ],
 "metadata": {
  "kernelspec": {
   "display_name": "base",
   "language": "python",
   "name": "python3"
  },
  "language_info": {
   "codemirror_mode": {
    "name": "ipython",
    "version": 3
   },
   "file_extension": ".py",
   "mimetype": "text/x-python",
   "name": "python",
   "nbconvert_exporter": "python",
   "pygments_lexer": "ipython3",
   "version": "3.8.5"
  }
 },
 "nbformat": 4,
 "nbformat_minor": 2
}
