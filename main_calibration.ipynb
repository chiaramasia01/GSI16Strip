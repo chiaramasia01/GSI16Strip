{
 "cells": [
  {
   "cell_type": "markdown",
   "metadata": {},
   "source": [
    "# Main file for calibration #"
   ]
  },
  {
   "cell_type": "markdown",
   "metadata": {},
   "source": [
    "### Chiara Masia\n",
    "### Summer student program 2024\n",
    "any questions or suggestions chiara.masia01@gmail.com"
   ]
  },
  {
   "cell_type": "code",
   "execution_count": null,
   "metadata": {},
   "outputs": [],
   "source": [
    "import numpy as np\n",
    "import os\n",
    "import matplotlib.pyplot as plt\n",
    "import pandas as pd\n",
    "from scipy import optimize\n",
    "import function as f\n",
    "from scipy.signal import find_peaks\n",
    "from NewCalibration import Calib_position\n",
    "from NewCalibration import Calib_energy\n",
    "from NewCalibration import Calib_channel\n",
    "\n",
    "\n",
    "work_dir = os.getcwd()\n",
    "chipnumber = 'sparechip04' # analyzed chip "
   ]
  },
  {
   "cell_type": "markdown",
   "metadata": {},
   "source": [
    "### Balistic calibration ###"
   ]
  },
  {
   "cell_type": "code",
   "execution_count": null,
   "metadata": {},
   "outputs": [],
   "source": [
    "\n",
    "# this part handles the balistic calibration\n",
    "\n",
    "lower_bound = [3500, 3400, 3500, 3500, 3500, 3500, 3450, 3400, 3450, 3450, 3500, 3500, 3600, 3500, 3500] # seen from plot_data\n",
    "upper_bound = [3750, 3700, 3700, 3700, 3700, 3700, 3700, 3650, 3800, 3750, 3700, 3800, 3800, 3750, 3700]\n",
    "\n",
    "# tabulated energies of the alpha particles\n",
    "\n",
    "energy1 = 5156.59 \n",
    "energy2 = 5485.46\n",
    "energy3 = 5804.77\n",
    "\n",
    "\n",
    "thres= [20, 20, 20, 20, 20, 15, 20, 15, 15, 30, 15, 15, 15, 10, 15, 20] # threshold for selecting relevant counts\n",
    "\n",
    "\n",
    "for ii in range(14,15):\n",
    "    file = \"20240826_sparechip04_uncalib.txt\"\n",
    "    strip = ii\n",
    "    my_cal = Calib_position(\"Strippos\", \"Energy\")\n",
    "    my_cal.read_data(file)\n",
    "    my_cal.plot_hist(strip)\n",
    "    my_cal.plot_data(strip, 5)\n",
    "    my_cal.fit_data(strip, lower_bound[ii-1], upper_bound[ii-1]) \n",
    "    #my_cal.fit_results()\n",
    "    #my_cal.write_txt('fit_results', strip, energy1, energy2, energy3, chipnumber)\n",
    "    my_cal.plot_calib_hist(lower_bound[ii-1], upper_bound[ii-1], strip, energy1, energy2, energy3)"
   ]
  },
  {
   "cell_type": "code",
   "execution_count": null,
   "metadata": {},
   "outputs": [],
   "source": [
    "# writing the parameters for each strip in a single Calib_position.dat\n",
    "\n",
    "path = os.path.join(work_dir, 'Calib_position_'+str(chipnumber)+'.dat') \n",
    "text=open(path, 'w')\n",
    "print(0,1,0, file=text) # for strip 0 that doesn't work\n",
    "\n",
    "for ii in range(1,16):\n",
    "\n",
    "    data_dir = os.path.join(work_dir, 'results/sparechip04')\n",
    "    filename = 'fit_results'+str(ii)+'.dat'\n",
    "    filepath = os.path.join(data_dir, filename)\n",
    "    a,b,c = np.loadtxt(filepath, comments='#', unpack=True)\n",
    "    print(a[0], b[0], c[0], file=text)\n",
    "    \n",
    "text.close()"
   ]
  },
  {
   "cell_type": "markdown",
   "metadata": {},
   "source": [
    "### Gaussian fit ### "
   ]
  },
  {
   "cell_type": "code",
   "execution_count": null,
   "metadata": {},
   "outputs": [],
   "source": [
    "# This part performs the gaussian fit\n",
    "\n",
    "for ii in range(1,16):\n",
    "    if ii<10:\n",
    "        file = '16 Strip Position Corrected Energy 0'+str(ii)+'.hdat'\n",
    "        strip = '0'+str(ii)\n",
    "    else:\n",
    "        file = '16 Strip Position Corrected Energy '+str(ii)+'.hdat'\n",
    "        strip = str(ii)\n",
    "    my_en = Calib_energy(\"# X \", \"Content\")\n",
    "    my_en.read_data(file, chipnumber)\n",
    "    my_en.plot_hist(strip)\n",
    "    my_en.initial_guess()\n",
    "    my_en.fit_gauss(strip)\n",
    "    my_en.write_txt('gauss_results', strip, chipnumber)\n"
   ]
  },
  {
   "cell_type": "markdown",
   "metadata": {},
   "source": [
    "### Energy calibration ###"
   ]
  },
  {
   "cell_type": "code",
   "execution_count": null,
   "metadata": {},
   "outputs": [],
   "source": [
    "# This part handles the conversion between energy and channel\n",
    "\n",
    "energy1 = 5156.59\n",
    "energy2 = 5485.46\n",
    "energy3 = 5804.77\n",
    "\n",
    "for ii in range(14,15):\n",
    "    if ii<10:\n",
    "        file = 'gauss_results0'+str(ii)+'.dat'\n",
    "        strip = '0'+str(ii)\n",
    "    else:\n",
    "        file = 'gauss_results'+str(ii)+'.dat'\n",
    "        strip = str(ii)\n",
    "\n",
    "    my_channel = Calib_channel(energy1, energy2, energy3)\n",
    "    my_channel.read_txt(file, chipnumber)\n",
    "    my_channel.fit_line(strip)\n",
    "    my_channel.write_txt('line_results', strip, chipnumber)"
   ]
  },
  {
   "cell_type": "markdown",
   "metadata": {},
   "source": [
    "### Writing .dat file ###"
   ]
  },
  {
   "cell_type": "code",
   "execution_count": null,
   "metadata": {},
   "outputs": [],
   "source": [
    "# Writing in a text file the best fit parameters for position calilbration\n",
    "# Produces a Calib_position.dat file to be used in Strip16CalibParameter.cxx\n",
    "\n",
    "data_dir = os.path.join(work_dir, 'results/'+str(chipnumber))\n",
    "path = os.path.join(work_dir, 'Calib_position_'+str(chipnumber)+'.dat') \n",
    "text=open(path, 'w')\n",
    "print(0,1,0, file=text) # for strip 0 that doesn't work\n",
    "\n",
    "\n",
    "for ii in range(1,16):\n",
    "    if ii<10:\n",
    "        filename = 'fit_results0'+str(ii)+'.dat'\n",
    "        strip = '0'+str(ii)\n",
    "    else:\n",
    "        filename = 'fit_results'+str(ii)+'.dat'\n",
    "        strip = str(ii)\n",
    "    filepath = os.path.join(data_dir, filename)\n",
    "    a_i, b_i, c_i = np.loadtxt(filepath, comments='#', unpack=True)\n",
    "    print('%.3f %.3f' % (a_i[0], b_i[0], c_i[0]), file=text)\n",
    "\n",
    "text.close()\n"
   ]
  },
  {
   "cell_type": "code",
   "execution_count": null,
   "metadata": {},
   "outputs": [],
   "source": [
    "# Writing in a text file the best fit parameters for each strip\n",
    "# Produces a Calib_Energy.dat file to be used in Strip16CalibParameter.cxx\n",
    "\n",
    "\n",
    "data_dir = os.path.join(work_dir, 'results/'+str(chipnumber))\n",
    "\n",
    "path = os.path.join(work_dir, 'Calib_Energy_sparechip04.dat') # change number of chip when needed\n",
    "text=open(path, 'w')\n",
    "print(1,0, file=text)\n",
    "\n",
    "for ii in range(1,16):\n",
    "    if ii<10:\n",
    "        filename = 'line_results0'+str(ii)+'.dat'\n",
    "        strip = '0'+str(ii)\n",
    "    else:\n",
    "        filename = 'line_results'+str(ii)+'.dat'\n",
    "        strip = str(ii)\n",
    "\n",
    "    filepath = os.path.join(data_dir, filename)\n",
    "    m_i, q_i = np.loadtxt(filepath, comments='#', unpack=True)\n",
    "    print('%.3f %.3f' % (m_i, q_i), file=text)\n",
    "\n",
    "\n",
    "text.close()\n"
   ]
  },
  {
   "cell_type": "markdown",
   "metadata": {},
   "source": [
    "### Showing results of calibration ###"
   ]
  },
  {
   "cell_type": "code",
   "execution_count": null,
   "metadata": {},
   "outputs": [],
   "source": [
    "\n",
    "# Showing results of calibration\n",
    "\n",
    "filename = \"20240826_sparechip04_uncalib.txt\"\n",
    "filepath = os.path.join(work_dir, filename)\n",
    "my_df = pd.read_csv(filepath, sep=\" \", header=0) \n",
    "\n",
    "\n",
    "position = my_df['Strippos'].to_numpy()\n",
    "energy = my_df['Energy'].to_numpy()\n",
    "strip = my_df['Stripnum'].to_numpy()\n",
    "\n",
    "\n",
    "calib_position = \"Calib_position_\"+str(chipnumber)+\".dat\"\n",
    "pos_path = os.path.join(work_dir, calib_position)\n",
    "a,b,c = np.loadtxt(pos_path, unpack=True)\n",
    "\n",
    "calib_energy = \"Calib_Energy_\"+str(chipnumber)+\".dat\"\n",
    "en_path = os.path.join(work_dir, calib_energy)\n",
    "m,q = np.loadtxt(en_path, unpack=True)\n",
    "\n",
    "corrected_energy=[]\n",
    "corrected_strip=[]\n",
    "\n",
    "uncalib_strip=[]\n",
    "uncalib_energy=[]\n",
    "\n",
    "for ii in range(0,16):\n",
    "        index = my_df['Stripnum'].loc[my_df['Stripnum'] == ii].index\n",
    "        strip_energy = energy[index]\n",
    "        strip_position = position[index]\n",
    "        strip_number = strip[index]\n",
    "        energy_sel = strip_energy[strip_energy!=0] \n",
    "        position_sel = strip_position[strip_energy!=0]\n",
    "        strip_sel = strip_number[strip_energy!=0]\n",
    "        uncalib_strip.append(ii)\n",
    "        uncalib_energy.append(energy_sel)\n",
    "\n",
    "        for jj in range(len(energy_sel)):\n",
    "\n",
    "                delta_E = a[ii]*position_sel[jj]**2 + b[ii]*position_sel[jj] + c[ii]\n",
    "                energy_corr = energy_sel[jj] - delta_E\n",
    "                energy_fin = m[ii]*energy_corr + q[ii]\n",
    "                corrected_energy.append(energy_fin)\n",
    "                corrected_strip.append(ii)\n",
    "\n",
    "mask = energy!=0\n",
    "\n",
    "# pre calibration\n",
    "plt.figure(figsize=(10,6))\n",
    "plt.hist2d(strip[mask], energy[mask], bins=(15,500), cmap='twilight')\n",
    "plt.colorbar()\n",
    "plt.xticks([0,1,2,3,4,5,6,7,8,9,10,11,12,13,14,15])\n",
    "plt.xlabel('Strip number', fontsize=15)\n",
    "plt.ylabel('Channel [keV]', fontsize=15)\n",
    "plt.title('Pre-calibration', fontsize=20)\n",
    "plt.ylim(3000,4000)\n",
    "\n",
    "#calibration result\n",
    "plt.figure(figsize=(10,6))\n",
    "plt.hist2d(corrected_strip, corrected_energy, bins=(15,500), cmap='twilight')\n",
    "plt.colorbar()\n",
    "plt.xticks([0,1,2,3,4,5,6,7,8,9,10,11,12,13,14,15])\n",
    "plt.xlabel('Strip number', fontsize=15)\n",
    "plt.ylabel('Channel [keV]', fontsize=15)\n",
    "plt.title('Calibration results', fontsize=20)\n",
    "plt.ylim(4800,6000)\n"
   ]
  },
  {
   "cell_type": "code",
   "execution_count": null,
   "metadata": {},
   "outputs": [],
   "source": []
  }
 ],
 "metadata": {
  "kernelspec": {
   "display_name": "base",
   "language": "python",
   "name": "python3"
  },
  "language_info": {
   "codemirror_mode": {
    "name": "ipython",
    "version": 3
   },
   "file_extension": ".py",
   "mimetype": "text/x-python",
   "name": "python",
   "nbconvert_exporter": "python",
   "pygments_lexer": "ipython3",
   "version": "3.8.5"
  }
 },
 "nbformat": 4,
 "nbformat_minor": 2
}
