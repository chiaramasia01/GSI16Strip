{
 "cells": [
  {
   "cell_type": "markdown",
   "metadata": {},
   "source": [
    "### Main file for calibration ###"
   ]
  },
  {
   "cell_type": "code",
   "execution_count": 1,
   "metadata": {},
   "outputs": [],
   "source": [
    "import numpy as np\n",
    "import os\n",
    "import matplotlib.pyplot as plt\n",
    "import pandas as pd\n",
    "from scipy import optimize\n",
    "import function as f\n",
    "from scipy.signal import find_peaks\n",
    "from Calibration import Calib_position\n",
    "from Calibration import Calib_energy\n",
    "from Calibration import Calib_channel"
   ]
  },
  {
   "cell_type": "code",
   "execution_count": null,
   "metadata": {},
   "outputs": [],
   "source": [
    "# note 1 : try to find a way to automatize the choice for lower bound and upper bound \n",
    "\n",
    "# This part handles the balistic calibration\n",
    "\n",
    "lower_bound = [3500, 3500, 3500, 3500, 3500, 3450, 3450, 3400, 3500, 3500, 3500, 3500, 3550, 3500, 3450] # seen from plot_data\n",
    "upper_bound = [3700, 3700, 3700, 3700, 3700, 3700, 3700, 3700, 3700, 3700, 3700, 3800, 3800, 3700, 3700]\n",
    "\n",
    "for ii in range(1,16):\n",
    "    if ii<10:\n",
    "        file = 'E vs Calib Postion top 0'+str(ii)+'.hdat'\n",
    "        strip = '0'+str(ii)\n",
    "    else:\n",
    "        file = 'E vs Calib Postion top '+str(ii)+'.hdat'\n",
    "        strip = str(ii)\n",
    "    my_cal = Calib_position(\"# X \", \"Y \")\n",
    "    my_cal.read_data(file)\n",
    "    my_cal.plot_hist(strip)\n",
    "    my_cal.plot_data(strip)\n",
    "    my_cal.fit_data(lower_bound[ii-1], upper_bound[ii-1], strip) \n",
    "    my_cal.fit_results()\n",
    "    my_cal.write_txt('fit_results', strip)\n",
    "    my_cal.plot_calib_hist(lower_bound[ii-1], upper_bound[ii-1], strip)\n"
   ]
  },
  {
   "cell_type": "code",
   "execution_count": null,
   "metadata": {},
   "outputs": [],
   "source": [
    "# This part handles the energy calibration\n",
    "\n",
    "for ii in range(1,16):\n",
    "    if ii<10:\n",
    "        file = '16 Strip Position Corrected Energy 0'+str(ii)+'.hdat'\n",
    "        strip = '0'+str(ii)\n",
    "    else:\n",
    "        file = '16 Strip Position Corrected Energy '+str(ii)+'.hdat'\n",
    "        strip = str(ii)\n",
    "    my_en = Calib_energy(\"# X \", \"Content\")\n",
    "    my_en.read_data(file)\n",
    "    my_en.plot_hist(strip)\n",
    "    my_en.initial_guess()\n",
    "    my_en.fit_gauss(strip)\n",
    "    my_en.write_txt('gauss_results', strip)\n"
   ]
  },
  {
   "cell_type": "code",
   "execution_count": null,
   "metadata": {},
   "outputs": [],
   "source": [
    "# This part handles the conversion between energy and channel\n",
    "\n",
    "energy1 = 5156.59\n",
    "energy2 = 5485.46\n",
    "energy3 = 5804.77\n",
    "\n",
    "for ii in range(1,16):\n",
    "    if ii<10:\n",
    "        file = 'gauss_results0'+str(ii)+'.dat'\n",
    "        strip = '0'+str(ii)\n",
    "    else:\n",
    "        file = 'gauss_results'+str(ii)+'.dat'\n",
    "        strip = str(ii)\n",
    "\n",
    "    my_channel = Calib_channel(energy1, energy2, energy3)\n",
    "    my_channel.read_txt(file)\n",
    "    my_channel.fit_line(strip)\n",
    "    my_channel.write_txt('line_results', strip)"
   ]
  },
  {
   "cell_type": "code",
   "execution_count": 2,
   "metadata": {},
   "outputs": [],
   "source": [
    "work_dir = os.getcwd()\n",
    "data_dir = os.path.join(work_dir, 'results')\n",
    "m = []\n",
    "q = []\n",
    "\n",
    "path = os.path.join(work_dir, 'Calib_energy_chiara.dat')\n",
    "text=open(path, 'w')\n",
    "\n",
    "for ii in range(1,16):\n",
    "    if ii<10:\n",
    "        filename = 'line_results0'+str(ii)+'.dat'\n",
    "        strip = '0'+str(ii)\n",
    "    else:\n",
    "        filename = 'line_results'+str(ii)+'.dat'\n",
    "        strip = str(ii)\n",
    "\n",
    "    filepath = os.path.join(data_dir, filename)\n",
    "    m_i, q_i = np.loadtxt(filepath, comments='#', unpack=True)\n",
    "    print('%.3f %.3f' % (m_i, q_i), file=text)\n",
    "\n",
    "\n",
    "text.close()\n"
   ]
  },
  {
   "cell_type": "code",
   "execution_count": null,
   "metadata": {},
   "outputs": [],
   "source": []
  }
 ],
 "metadata": {
  "kernelspec": {
   "display_name": "base",
   "language": "python",
   "name": "python3"
  },
  "language_info": {
   "codemirror_mode": {
    "name": "ipython",
    "version": 3
   },
   "file_extension": ".py",
   "mimetype": "text/x-python",
   "name": "python",
   "nbconvert_exporter": "python",
   "pygments_lexer": "ipython3",
   "version": "3.8.5"
  }
 },
 "nbformat": 4,
 "nbformat_minor": 2
}
