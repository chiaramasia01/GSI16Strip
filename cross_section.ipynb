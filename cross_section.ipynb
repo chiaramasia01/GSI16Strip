{
 "cells": [
  {
   "cell_type": "code",
   "execution_count": 1,
   "metadata": {},
   "outputs": [],
   "source": [
    "import numpy as np\n",
    "import os\n",
    "import matplotlib.pyplot as plt\n",
    "import pandas as pd\n",
    "from scipy import optimize\n",
    "from scipy import constants\n",
    "import function as f\n",
    "from scipy.signal import find_peaks\n",
    "from NewCalibration import Calib_position\n",
    "from NewCalibration import Calib_energy\n",
    "from NewCalibration import Calib_channel\n",
    "\n",
    "\n",
    "work_dir = os.getcwd()"
   ]
  },
  {
   "cell_type": "code",
   "execution_count": 2,
   "metadata": {},
   "outputs": [
    {
     "name": "stdout",
     "output_type": "stream",
     "text": [
      "1476315\n"
     ]
    },
    {
     "data": {
      "text/plain": [
       "Index(['eventnum', 'striptime', 'stripnum', 'strippos', 'energy',\n",
       "       'macropulse'],\n",
       "      dtype='object')"
      ]
     },
     "execution_count": 2,
     "metadata": {},
     "output_type": "execute_result"
    }
   ],
   "source": [
    "filename = '20240823_cross_section_data.txt'\n",
    "filepath = os.path.join(work_dir, filename)\n",
    "\n",
    "my_df = pd.read_csv(filepath, sep=' ', header=0)\n",
    "print(len(my_df['energy']))\n",
    "my_df.columns"
   ]
  },
  {
   "cell_type": "code",
   "execution_count": 3,
   "metadata": {},
   "outputs": [
    {
     "data": {
      "text/html": [
       "<div>\n",
       "<style scoped>\n",
       "    .dataframe tbody tr th:only-of-type {\n",
       "        vertical-align: middle;\n",
       "    }\n",
       "\n",
       "    .dataframe tbody tr th {\n",
       "        vertical-align: top;\n",
       "    }\n",
       "\n",
       "    .dataframe thead th {\n",
       "        text-align: right;\n",
       "    }\n",
       "</style>\n",
       "<table border=\"1\" class=\"dataframe\">\n",
       "  <thead>\n",
       "    <tr style=\"text-align: right;\">\n",
       "      <th></th>\n",
       "      <th>eventnum</th>\n",
       "      <th>striptime</th>\n",
       "      <th>stripnum</th>\n",
       "      <th>strippos</th>\n",
       "      <th>energy</th>\n",
       "      <th>macropulse</th>\n",
       "    </tr>\n",
       "  </thead>\n",
       "  <tbody>\n",
       "    <tr>\n",
       "      <th>0</th>\n",
       "      <td>6533753</td>\n",
       "      <td>4.827710e+09</td>\n",
       "      <td>10</td>\n",
       "      <td>20.05980</td>\n",
       "      <td>26521.20</td>\n",
       "      <td>0</td>\n",
       "    </tr>\n",
       "    <tr>\n",
       "      <th>1</th>\n",
       "      <td>6533754</td>\n",
       "      <td>4.827820e+09</td>\n",
       "      <td>13</td>\n",
       "      <td>7.13431</td>\n",
       "      <td>19325.40</td>\n",
       "      <td>0</td>\n",
       "    </tr>\n",
       "    <tr>\n",
       "      <th>2</th>\n",
       "      <td>6533755</td>\n",
       "      <td>4.827840e+09</td>\n",
       "      <td>13</td>\n",
       "      <td>17.10300</td>\n",
       "      <td>30950.20</td>\n",
       "      <td>0</td>\n",
       "    </tr>\n",
       "    <tr>\n",
       "      <th>3</th>\n",
       "      <td>6533756</td>\n",
       "      <td>4.827860e+09</td>\n",
       "      <td>14</td>\n",
       "      <td>25.33490</td>\n",
       "      <td>21794.40</td>\n",
       "      <td>0</td>\n",
       "    </tr>\n",
       "    <tr>\n",
       "      <th>4</th>\n",
       "      <td>6533757</td>\n",
       "      <td>4.827990e+09</td>\n",
       "      <td>3</td>\n",
       "      <td>17.33490</td>\n",
       "      <td>30909.00</td>\n",
       "      <td>0</td>\n",
       "    </tr>\n",
       "    <tr>\n",
       "      <th>...</th>\n",
       "      <td>...</td>\n",
       "      <td>...</td>\n",
       "      <td>...</td>\n",
       "      <td>...</td>\n",
       "      <td>...</td>\n",
       "      <td>...</td>\n",
       "    </tr>\n",
       "    <tr>\n",
       "      <th>1413604</th>\n",
       "      <td>7947357</td>\n",
       "      <td>1.633110e+11</td>\n",
       "      <td>1</td>\n",
       "      <td>19.02130</td>\n",
       "      <td>5335.79</td>\n",
       "      <td>0</td>\n",
       "    </tr>\n",
       "    <tr>\n",
       "      <th>1418887</th>\n",
       "      <td>7952640</td>\n",
       "      <td>1.636680e+11</td>\n",
       "      <td>4</td>\n",
       "      <td>21.68130</td>\n",
       "      <td>10393.30</td>\n",
       "      <td>0</td>\n",
       "    </tr>\n",
       "    <tr>\n",
       "      <th>1446953</th>\n",
       "      <td>7980706</td>\n",
       "      <td>1.657100e+11</td>\n",
       "      <td>1</td>\n",
       "      <td>17.50430</td>\n",
       "      <td>8565.02</td>\n",
       "      <td>0</td>\n",
       "    </tr>\n",
       "    <tr>\n",
       "      <th>1453046</th>\n",
       "      <td>7986799</td>\n",
       "      <td>1.662070e+11</td>\n",
       "      <td>8</td>\n",
       "      <td>14.59530</td>\n",
       "      <td>419.62</td>\n",
       "      <td>0</td>\n",
       "    </tr>\n",
       "    <tr>\n",
       "      <th>1468826</th>\n",
       "      <td>8002579</td>\n",
       "      <td>1.674950e+11</td>\n",
       "      <td>10</td>\n",
       "      <td>18.05780</td>\n",
       "      <td>278.32</td>\n",
       "      <td>0</td>\n",
       "    </tr>\n",
       "  </tbody>\n",
       "</table>\n",
       "<p>216990 rows × 6 columns</p>\n",
       "</div>"
      ],
      "text/plain": [
       "         eventnum     striptime  stripnum  strippos    energy  macropulse\n",
       "0         6533753  4.827710e+09        10  20.05980  26521.20           0\n",
       "1         6533754  4.827820e+09        13   7.13431  19325.40           0\n",
       "2         6533755  4.827840e+09        13  17.10300  30950.20           0\n",
       "3         6533756  4.827860e+09        14  25.33490  21794.40           0\n",
       "4         6533757  4.827990e+09         3  17.33490  30909.00           0\n",
       "...           ...           ...       ...       ...       ...         ...\n",
       "1413604   7947357  1.633110e+11         1  19.02130   5335.79           0\n",
       "1418887   7952640  1.636680e+11         4  21.68130  10393.30           0\n",
       "1446953   7980706  1.657100e+11         1  17.50430   8565.02           0\n",
       "1453046   7986799  1.662070e+11         8  14.59530    419.62           0\n",
       "1468826   8002579  1.674950e+11        10  18.05780    278.32           0\n",
       "\n",
       "[216990 rows x 6 columns]"
      ]
     },
     "execution_count": 3,
     "metadata": {},
     "output_type": "execute_result"
    }
   ],
   "source": [
    "# extracting only data where macropulse=0 and energy !=0\n",
    "index = my_df['macropulse'].loc[my_df['macropulse']==1].index\n",
    "new_df = my_df.drop(index)\n",
    "\n",
    "index_en = new_df['energy'].loc[new_df['energy']==0].index\n",
    "df = new_df.drop(index_en)\n",
    "df"
   ]
  },
  {
   "cell_type": "code",
   "execution_count": 4,
   "metadata": {},
   "outputs": [
    {
     "data": {
      "text/plain": [
       "(0.0, 4504.0)"
      ]
     },
     "execution_count": 4,
     "metadata": {},
     "output_type": "execute_result"
    },
    {
     "data": {
      "image/png": "[encoded data removed]",
      "text/plain": [
       "<Figure size 720x432 with 1 Axes>"
      ]
     },
     "metadata": {
      "needs_background": "light"
     },
     "output_type": "display_data"
    }
   ],
   "source": [
    "# plotting the energy spectrum\n",
    "plt.figure(figsize=(10,6))\n",
    "height, xedges, yedges = plt.hist(df['energy'], bins=5000)\n",
    "plt.xlim([4000,6000])\n",
    "plt.title('Energy spectrum for strip sum', fontsize=20)\n",
    "plt.xlabel('Energy channel', fontsize=15)\n",
    "plt.ylabel('Counts', fontsize=15)\n",
    "plt.axhspan(0, np.max(height)+500, 0, 0.7, facecolor='darkorange', alpha=0.1)\n",
    "plt.axhspan(0, np.max(height)+500, 0.9, 1, facecolor='darkorange', alpha=0.1)\n",
    "plt.ylim([0, np.max(height)+500])\n"
   ]
  },
  {
   "cell_type": "code",
   "execution_count": 22,
   "metadata": {},
   "outputs": [
    {
     "name": "stdout",
     "output_type": "stream",
     "text": [
      "23507\n"
     ]
    },
    {
     "data": {
      "image/png": "[encoded data removed]",
      "text/plain": [
       "<Figure size 720x432 with 1 Axes>"
      ]
     },
     "metadata": {
      "needs_background": "light"
     },
     "output_type": "display_data"
    }
   ],
   "source": [
    "# I want to select only the number of counts in that energy window\n",
    "\n",
    "cond1 = df['energy'] >= 5400\n",
    "cond2 = df['energy'] <= 5800\n",
    "window = np.logical_and(cond1 , cond2)\n",
    "\n",
    "lu_df = df[window]\n",
    "\n",
    "# plotting the energy spectrum for 156Lu\n",
    "plt.figure(figsize=(10,6))\n",
    "height, xedges, yedges = plt.hist(lu_df['energy'], bins=1000, label='data')\n",
    "#plt.xlim([4000,6000])\n",
    "plt.title('156Lu Energy spectrum for strip sum', fontsize=20)\n",
    "plt.xlabel('Energy channel', fontsize=15)\n",
    "plt.ylabel('Counts', fontsize=15)\n",
    "\n",
    "plt.ylim([0, np.max(height)+20])\n",
    "\n",
    "xcenters = (xedges[:-1]+xedges[1:])/2 # getting the centers of the bins\n",
    "\n",
    "bin_width = xedges[1]-xedges[0]\n",
    "err = np.ones(len(xcenters))*bin_width # bin width as error for fit\n",
    "\n",
    "popt, pcov = optimize.curve_fit(f.multi_gauss2, xcenters, height, sigma=err, p0=[0, 25, 5500, 50, 150, 5625, 50]) # fit\n",
    "\n",
    "#for ii in range(len(popt)):\n",
    "#    print(\"pp[%d] =\" % ii, popt[ii], \"+/-\", pcov[ii,ii]**0.5) # printing best fit parameters\n",
    "\n",
    "\n",
    "plt.plot(xcenters, f.multi_gauss2(xcenters, *popt),'r-', label='fit') # plotting fit result\n",
    "plt.legend()\n",
    "\n",
    "# getting the number of counts\n",
    "gauss_mean = popt[5]\n",
    "gauss_FWHM = 2.35 * popt[6]\n",
    "\n",
    "low_bound = lu_df['energy'] >= gauss_mean - gauss_FWHM/2\n",
    "up_bound = lu_df['energy'] <= gauss_mean + gauss_FWHM/2\n",
    "energy_range = np.logical_and(low_bound, up_bound)\n",
    "final_df = lu_df[energy_range]\n",
    "counts = len(final_df['energy'])\n",
    "print(counts)"
   ]
  },
  {
   "cell_type": "code",
   "execution_count": 26,
   "metadata": {},
   "outputs": [
    {
     "name": "stdout",
     "output_type": "stream",
     "text": [
      "counts at target 79549.91539763114\n",
      "1.602176634e-19\n",
      "cross section= 1.96277e-12 barns\n"
     ]
    }
   ],
   "source": [
    "# pause correction factor\n",
    "rep_rate = 5 #[Hz]\n",
    "pulse_length = 3 * 10**(-3) #[s]\n",
    "pcf = 1 / (1 - rep_rate * pulse_length)\n",
    "\n",
    "# efficiency\n",
    "eff = 0.30 # from literature\n",
    "\n",
    "# counts at target\n",
    "counts_at = counts * pcf / eff\n",
    "print('counts at target', counts_at)\n",
    "\n",
    "# atoms / cm^2 at target\n",
    "adt = 400 * 10**(-6) #[g/cm^2]\n",
    "mass = 106.9051 #[g] for 107Ag\n",
    "target = adt * constants.Avogadro / mass\n",
    "\n",
    "# atoms for beam\n",
    "current = 16 * 10**(-6) #[A]\n",
    "charge_state = 14\n",
    "tot_meas_time = np.max(my_df['striptime']) - np.min(my_df['striptime']) * 10**(-6) #[s]\n",
    "beam = current / constants.e / charge_state * tot_meas_time * rep_rate * pulse_length\n",
    "\n",
    "\n",
    "# cross section\n",
    "sigma = counts_at / target / beam * 10**(24)\n",
    "print('cross section= %.5e barns' % sigma)"
   ]
  },
  {
   "cell_type": "code",
   "execution_count": null,
   "metadata": {},
   "outputs": [],
   "source": []
  }
 ],
 "metadata": {
  "kernelspec": {
   "display_name": "base",
   "language": "python",
   "name": "python3"
  },
  "language_info": {
   "codemirror_mode": {
    "name": "ipython",
    "version": 3
   },
   "file_extension": ".py",
   "mimetype": "text/x-python",
   "name": "python",
   "nbconvert_exporter": "python",
   "pygments_lexer": "ipython3",
   "version": "3.8.5"
  }
 },
 "nbformat": 4,
 "nbformat_minor": 2
}
