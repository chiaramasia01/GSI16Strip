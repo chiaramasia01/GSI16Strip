{
 "cells": [
  {
   "cell_type": "markdown",
   "metadata": {},
   "source": [
    "### GSI summer student program "
   ]
  },
  {
   "cell_type": "markdown",
   "metadata": {},
   "source": [
    "Started this notebook on 09/08/2024. First goal is to perform a balistic correction on the energies measured by the 16 strip detector, in order to do it I extracted data from the go4 histogram to perform a quadratic fit on energies vs. strip position for each strip."
   ]
  },
  {
   "cell_type": "code",
   "execution_count": 1,
   "metadata": {},
   "outputs": [
    {
     "name": "stdout",
     "output_type": "stream",
     "text": [
      "work dir is d:\\GSI\\SHIP\n",
      "data dir is d:\\GSI\\SHIP\\Uncalib_energy\n"
     ]
    }
   ],
   "source": [
    "# importing the useful packages\n",
    "import numpy as np\n",
    "import os\n",
    "import matplotlib.pyplot as plt\n",
    "import pandas as pd\n",
    "from scipy import optimize\n",
    "\n",
    "# defining directories \n",
    "work_dir = os.getcwd()\n",
    "data_dir = os.path.join(work_dir, \"Uncalib_energy\")\n",
    "\n",
    "\n",
    "print(\"work dir is %s\" % work_dir)\n",
    "print(\"data dir is %s\" % data_dir)"
   ]
  },
  {
   "cell_type": "code",
   "execution_count": 2,
   "metadata": {},
   "outputs": [
    {
     "data": {
      "text/plain": [
       "Index(['# X ', 'Y ', 'Z ', 'Content'], dtype='object')"
      ]
     },
     "execution_count": 2,
     "metadata": {},
     "output_type": "execute_result"
    }
   ],
   "source": [
    "# reading data\n",
    "filename = \"16 Strip Position Corrected Energy 01.hdat\"\n",
    "strip_number = \"01\"\n",
    "filepath = os.path.join(data_dir, filename)\n",
    "\n",
    "my_df = pd.read_csv(filepath, sep=\"\\t\", header=1) \n",
    "my_df.columns"
   ]
  },
  {
   "cell_type": "code",
   "execution_count": null,
   "metadata": {},
   "outputs": [],
   "source": [
    "\n",
    "# Extract x, y, and counts\n",
    "position = my_df[\"# X \"].to_numpy()\n",
    "energy = my_df[\"Y \"].to_numpy()\n",
    "content = my_df['Content'].to_numpy()\n",
    "\n",
    "# selecting only the relevant bins\n",
    "index = np.where(content!=0)\n",
    "selected_energy = energy[index]\n",
    "selected_position = position[index]\n",
    "selected_content = content[index]\n",
    "print(index[0])\n",
    "\n",
    "# Determine the number of unique bins in x and y\n",
    "x_bins = np.unique(selected_position)\n",
    "y_bins = np.unique(selected_energy)\n",
    "\n",
    "# Original number of bins\n",
    "original_x_bins = len(x_bins)\n",
    "original_y_bins = len(y_bins)\n",
    "\n",
    "# Define the desired number of bins\n",
    "new_x_bins = 26  # Modify as needed\n",
    "new_y_bins = 200  # Modify as needed\n",
    "\n",
    "# Calculate the new bin edges\n",
    "x_edges = np.linspace(x_bins.min(), x_bins.max(), new_x_bins + 1)\n",
    "y_edges = np.linspace(y_bins.min(), y_bins.max(), new_y_bins + 1)\n",
    "\n",
    "# Re-bin the counts\n",
    "counts_2d, _, _ = np.histogram2d(selected_position, selected_energy, bins=[x_edges, y_edges], weights=selected_content)\n",
    "\n",
    "# Plot the re-binned 2D histogram using imshow\n",
    "plt.figure(figsize=(10,6))\n",
    "plt.imshow(counts_2d.T, origin='lower', extent=[x_bins.min(), x_bins.max(), y_bins.min(), y_bins.max()], aspect='auto', cmap='twilight')\n",
    "plt.colorbar(label='Counts')\n",
    "plt.xlabel('X')\n",
    "plt.ylabel('Y')\n",
    "plt.title('Re-binned 2D Histogram')\n",
    "plt.show()\n",
    "\n",
    "indices = np.where(counts_2d > 10)\n",
    "\n",
    "# Extract the bin edges corresponding to these indices\n",
    "x_coords = (x_edges[indices[0]] + x_edges[indices[0] + 1]) / 2\n",
    "y_coords = (y_edges[indices[1]] + y_edges[indices[1] + 1]) / 2\n",
    "\n",
    "xx = []\n",
    "yy = []\n",
    "\n",
    "# Print or store the coordinates\n",
    "for x, y in zip(x_coords, y_coords):\n",
    "    print(f\"X: {x}, Y: {y}\")\n",
    "    xx.append(x)\n",
    "    yy.append(y)\n",
    "\n",
    "yy = np.array(yy)\n",
    "xx = np.array(xx)\n",
    "\n",
    "plt.scatter(xx,yy)\n"
   ]
  },
  {
   "cell_type": "code",
   "execution_count": null,
   "metadata": {},
   "outputs": [],
   "source": [
    "\n",
    "yy = np.array(yy)\n",
    "xx = np.array(xx)\n",
    "\n",
    "fig3=plt.figure(figsize=(10,8))\n",
    "plt.scatter(xx,yy, label='Data')\n",
    "\n",
    "cond1 = yy<3500 # condition for first curve\n",
    "cond2_a = yy>3500 # condition for second curve\n",
    "cond2_b = yy<3700 # condition for second curve\n",
    "cond3 = yy>3700 # condition for third curve\n",
    "\n",
    "# first curve\n",
    "index1 = np.where(cond1)\n",
    "yy1 = yy[index1]\n",
    "xx1 = xx[index1]\n",
    "print(yy1)\n",
    "\n",
    "# second curve\n",
    "index2 = np.where(np.logical_and(cond2_a, cond2_b))\n",
    "yy2 = yy[index2]\n",
    "xx2 = xx[index2]\n",
    "\n",
    "# third curve\n",
    "index3 = np.where(cond3)\n",
    "yy3 = yy[index3]\n",
    "xx3 = xx[index3]"
   ]
  },
  {
   "cell_type": "code",
   "execution_count": null,
   "metadata": {},
   "outputs": [],
   "source": [
    "# trying to fit all three\n",
    "\n",
    "\n",
    "popt, pcov = optimize.curve_fit(parabola, xx1, yy1)\n",
    "print(\"a1 =\", popt[0], \"+/-\", pcov[0,0]**0.5)\n",
    "print(\"b1 =\", popt[1], \"+/-\", pcov[1,1]**0.5)\n",
    "print(\"c1 =\", popt[2], \"+/-\", pcov[2,2]**0.5)\n",
    "\n",
    "\n",
    "popt2, pcov2 = optimize.curve_fit(parabola, xx2, yy2)\n",
    "print(\"a2 =\", popt2[0], \"+/-\", pcov2[0,0]**0.5)\n",
    "print(\"b2 =\", popt2[1], \"+/-\", pcov2[1,1]**0.5)\n",
    "print(\"c2 =\", popt2[2], \"+/-\", pcov2[2,2]**0.5)\n",
    "\n",
    "\n",
    "popt3, pcov3 = optimize.curve_fit(parabola, xx3, yy3)\n",
    "print(\"a3 =\", popt3[0], \"+/-\", pcov3[0,0]**0.5)\n",
    "print(\"b3 =\", popt3[1], \"+/-\", pcov3[1,1]**0.5)\n",
    "print(\"c3 =\", popt3[2], \"+/-\", pcov3[2,2]**0.5)\n",
    "\n",
    "# Plotting the fit for the first curve\n",
    "\n",
    "fig3=plt.figure(figsize=(10,8))\n",
    "plt.scatter(xx,yy, label='Data')\n",
    "plt.plot(xx1, parabola(xx1, *popt), \"r-\", label='fit')\n",
    "\n",
    "plt.xlabel(\"Strip position\", fontsize=15)\n",
    "plt.ylabel(\"Channel\", fontsize=15)\n",
    "plt.title(\"Scatter plot of Energy vs Calib Position strip %s\" % strip_number, fontsize=20)\n",
    "\n",
    "# plotting the fit for the second curve\n",
    "plt.plot(xx2, parabola(xx2, *popt2), \"r-\")\n",
    "\n",
    "# plotting the fit for the third curve\n",
    "plt.plot(xx3, parabola(xx3, *popt3), \"r-\")\n",
    "plt.legend()\n",
    "plt.grid(True)\n"
   ]
  },
  {
   "cell_type": "code",
   "execution_count": null,
   "metadata": {},
   "outputs": [],
   "source": [
    "# Writing fit results in text file\n",
    "\n",
    "output_name = 'prova_fit_results'\n",
    "results_dir = os.path.join(work_dir, 'results')\n",
    "output_filename = os.path.join(results_dir, output_name)\n",
    "\n",
    "text=open(output_filename+strip_number+\".dat\", \"w\")\n",
    "\n",
    "print(\"# Strip %s fit results\" % strip_number, '\\n', file=text)\n",
    "print(popt[0], popt[1], popt[2] - np.min(yy1), file=text)\n",
    "print(popt2[0], popt2[1], popt2[2] - np.min(yy2), file=text)\n",
    "print(popt3[0], popt3[1], popt3[2] - np.min(yy3), file=text)\n",
    "\n",
    "text.close()"
   ]
  },
  {
   "cell_type": "code",
   "execution_count": null,
   "metadata": {},
   "outputs": [],
   "source": [
    "# Plotting the result of the calibration for the first curve\n",
    "\n",
    "fig3=plt.figure(figsize=(10,8))\n",
    "plt.scatter(xx1, yy1-parabola(xx1, *popt) + np.min(yy1), label='fit')\n",
    "\n",
    "plt.xlabel(\"Strip position\", fontsize=15)\n",
    "plt.ylabel(\"Channel\", fontsize=15)\n",
    "plt.title(\"Scatter plot of Energy vs Calib Position strip %s\" % strip_number, fontsize=20)\n",
    "\n",
    "# plotting the fit for the second curve\n",
    "plt.scatter(xx2, yy2-parabola(xx2, *popt2)+np.min(yy2))\n",
    "\n",
    "# plotting the fit for the third curve\n",
    "plt.scatter(xx3, yy3-parabola(xx3, *popt3)+np.min(yy3))\n",
    "plt.grid(True)\n",
    "\n",
    "\n",
    "for jj in range(len(selected_energy)-1):\n",
    "    if selected_energy[jj]<3500:\n",
    "        selected_energy[jj] = selected_energy[jj] - parabola(selected_position[jj], *popt) + np.min(yy1)\n",
    "    elif selected_energy[jj]>3700:\n",
    "        selected_energy[jj] = selected_energy[jj] - parabola(selected_position[jj], *popt3) + np.min(yy2)\n",
    "    else:\n",
    "        selected_energy[jj] = selected_energy[jj] - parabola(selected_position[jj], *popt2) + np.min(yy3)\n",
    "\n",
    "\n",
    "# Determine the number of unique bins in x and y\n",
    "x_bins = np.unique(selected_position)\n",
    "y_bins = np.unique(selected_energy)\n",
    "\n",
    "# Original number of bins\n",
    "original_x_bins = len(x_bins)\n",
    "original_y_bins = len(y_bins)\n",
    "\n",
    "# Define the desired number of bins\n",
    "new_x_bins = 26  # Modify as needed\n",
    "new_y_bins = 200  # Modify as needed\n",
    "\n",
    "# Calculate the new bin edges\n",
    "x_edges = np.linspace(x_bins.min(), x_bins.max(), new_x_bins + 1)\n",
    "y_edges = np.linspace(y_bins.min(), y_bins.max(), new_y_bins + 1)\n",
    "\n",
    "# Re-bin the counts\n",
    "counts_2d, _, _ = np.histogram2d(selected_position, selected_energy, bins=[x_edges, y_edges], weights=selected_content)\n",
    "\n",
    "\n",
    "plt.figure(figsize=(10,6))\n",
    "plt.imshow(counts_2d.T, origin='lower', extent=[x_bins.min(), x_bins.max(), y_bins.min(), y_bins.max()], aspect='auto', cmap='twilight')\n",
    "plt.colorbar(label='Counts')\n",
    "plt.xlabel('X')\n",
    "plt.ylabel('Y')\n",
    "plt.title('Re-binned 2D Histogram')\n",
    "plt.show()"
   ]
  },
  {
   "cell_type": "code",
   "execution_count": null,
   "metadata": {},
   "outputs": [],
   "source": [
    "def parabola(x, a1, b1, c1): \n",
    "    par1 = a1*x**2 + b1*x + c1\n",
    "\n",
    "    return par1"
   ]
  },
  {
   "cell_type": "code",
   "execution_count": null,
   "metadata": {},
   "outputs": [],
   "source": []
  }
 ],
 "metadata": {
  "kernelspec": {
   "display_name": "Python 3",
   "language": "python",
   "name": "python3"
  },
  "language_info": {
   "codemirror_mode": {
    "name": "ipython",
    "version": 3
   },
   "file_extension": ".py",
   "mimetype": "text/x-python",
   "name": "python",
   "nbconvert_exporter": "python",
   "pygments_lexer": "ipython3",
   "version": "3.8.5"
  }
 },
 "nbformat": 4,
 "nbformat_minor": 2
}
